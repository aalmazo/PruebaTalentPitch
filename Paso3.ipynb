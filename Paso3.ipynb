{
 "cells": [
  {
   "attachments": {},
   "cell_type": "markdown",
   "metadata": {},
   "source": [
    "# Prueba Jr Data Analyst TalentPitch"
   ]
  },
  {
   "attachments": {},
   "cell_type": "markdown",
   "metadata": {},
   "source": [
    "## 3. Algoritmo de machine Learning para el clustering de los tipos de empleo por titulo\n",
    "\n",
    "##### Este algoritmo se utilizara con los titulos de los cargos encontrados en el web scrapping en paralelo pero se puede aplicar tanto para las descripciones como las palabras claves. No obstante, por temas de optimización de tiempo solo lo utilizaremos con el nombre de los cargos"
   ]
  },
  {
   "cell_type": "code",
   "execution_count": 2,
   "metadata": {},
   "outputs": [
    {
     "name": "stderr",
     "output_type": "stream",
     "text": [
      "[nltk_data] Downloading package punkt to\n",
      "[nltk_data]     C:\\Users\\analistaBi\\AppData\\Roaming\\nltk_data...\n",
      "[nltk_data]   Package punkt is already up-to-date!\n",
      "[nltk_data] Downloading package wordnet to\n",
      "[nltk_data]     C:\\Users\\analistaBi\\AppData\\Roaming\\nltk_data...\n",
      "[nltk_data]   Package wordnet is already up-to-date!\n",
      "[nltk_data] Downloading package stopwords to\n",
      "[nltk_data]     C:\\Users\\analistaBi\\AppData\\Roaming\\nltk_data...\n",
      "[nltk_data]   Package stopwords is already up-to-date!\n",
      "[nltk_data] Downloading package averaged_perceptron_tagger to\n",
      "[nltk_data]     C:\\Users\\analistaBi\\AppData\\Roaming\\nltk_data...\n",
      "[nltk_data]   Package averaged_perceptron_tagger is already up-to-\n",
      "[nltk_data]       date!\n"
     ]
    }
   ],
   "source": [
    "# Importamos todas las librerias necesarias para hacer una clasificación con lenguaje natural \n",
    "import nltk\n",
    "nltk.download('punkt')\n",
    "nltk.download('wordnet')\n",
    "nltk.download('stopwords')\n",
    "nltk.download('averaged_perceptron_tagger')\n",
    "from nltk.stem import WordNetLemmatizer\n",
    "from nltk.tokenize import word_tokenize\n",
    "from nltk.corpus import stopwords\n",
    "import pandas as pd\n",
    "from nltk.cluster import KMeansClusterer\n",
    "from sklearn.feature_extraction.text import TfidfVectorizer\n",
    "from sklearn.cluster import KMeans\n"
   ]
  },
  {
   "cell_type": "code",
   "execution_count": 3,
   "metadata": {},
   "outputs": [],
   "source": [
    "# Importamos la data del webscraping en paralalelo que obtuvimos\n",
    "df = pd.read_csv('EmpleosTitulosyDescripcion.csv')"
   ]
  },
  {
   "cell_type": "code",
   "execution_count": 4,
   "metadata": {},
   "outputs": [
    {
     "data": {
      "text/plain": [
       "Index(['Titulos', 'contenidos', 'Palabras claves'], dtype='object')"
      ]
     },
     "execution_count": 4,
     "metadata": {},
     "output_type": "execute_result"
    }
   ],
   "source": [
    "# Elegimos la columna que queremos utilizar para categorizar\n",
    "df.columns"
   ]
  },
  {
   "cell_type": "code",
   "execution_count": 5,
   "metadata": {},
   "outputs": [],
   "source": [
    "\n",
    "# Inicializamos un lemmatizer, nos desacemos de todas las palabras parecidas o iguales que pueden paracerse\n",
    "# a la palabra especifica \n",
    "lemmatizer = WordNetLemmatizer()\n",
    "texto =[]\n",
    "tokens=[]\n",
    "\n",
    "# Define the text\n",
    "for i in df['Titulos']:\n",
    "    texto.append(i)\n",
    "\n",
    "# Tokenize the text\n",
    "for i in texto:\n",
    "    tokens.append(word_tokenize(i))\n",
    "    #tokens = word_tokenize(texto)\n",
    "\n",
    "# Remove the stop words\n",
    "tokens1=[]\n",
    "stop_words = set(stopwords.words(\"spanish\"))\n",
    "for token in tokens:\n",
    "    tokens1.append( [w for w in token if w.lower() not in stop_words])\n",
    "\n",
    "\n",
    "# Perform lemmatization on the tokens\n",
    "lemmatized_tokens=[]\n",
    "for tokens in tokens1:\n",
    "    lemmatized_tokens.append([lemmatizer.lemmatize(token) for token in tokens])\n"
   ]
  },
  {
   "cell_type": "code",
   "execution_count": 6,
   "metadata": {},
   "outputs": [
    {
     "name": "stderr",
     "output_type": "stream",
     "text": [
      "<ipython-input-6-999bb8cd99cb>:5: FutureWarning: The default value of regex will change from True to False in a future version. In addition, single character regular expressions will*not* be treated as literal strings when regex=True.\n",
      "  df['LemmatizerTitulos']=df['LemmatizerTitulos'].str.replace('[','')\n",
      "<ipython-input-6-999bb8cd99cb>:6: FutureWarning: The default value of regex will change from True to False in a future version. In addition, single character regular expressions will*not* be treated as literal strings when regex=True.\n",
      "  df['LemmatizerTitulos']=df['LemmatizerTitulos'].str.replace(']','')\n"
     ]
    }
   ],
   "source": [
    "# Añadimos los datos Lematizados en el dataset\n",
    "df['LemmatizerTitulos'] = lemmatized_tokens\n",
    "df=df.applymap(str)\n",
    "\n",
    "df['LemmatizerTitulos']=df['LemmatizerTitulos'].str.replace('[','')\n",
    "df['LemmatizerTitulos']=df['LemmatizerTitulos'].str.replace(']','')\n",
    "df['LemmatizerTitulos']=df['LemmatizerTitulos'].str.replace(',',' ')\n",
    "df['LemmatizerTitulos']=df['LemmatizerTitulos'].str.replace(\"'\",' ')"
   ]
  },
  {
   "cell_type": "code",
   "execution_count": 7,
   "metadata": {},
   "outputs": [
    {
     "data": {
      "text/plain": [
       "(9988, 4)"
      ]
     },
     "execution_count": 7,
     "metadata": {},
     "output_type": "execute_result"
    }
   ],
   "source": [
    "df.shape"
   ]
  },
  {
   "cell_type": "code",
   "execution_count": 8,
   "metadata": {},
   "outputs": [
    {
     "data": {
      "text/html": [
       "<div>\n",
       "<style scoped>\n",
       "    .dataframe tbody tr th:only-of-type {\n",
       "        vertical-align: middle;\n",
       "    }\n",
       "\n",
       "    .dataframe tbody tr th {\n",
       "        vertical-align: top;\n",
       "    }\n",
       "\n",
       "    .dataframe thead th {\n",
       "        text-align: right;\n",
       "    }\n",
       "</style>\n",
       "<table border=\"1\" class=\"dataframe\">\n",
       "  <thead>\n",
       "    <tr style=\"text-align: right;\">\n",
       "      <th></th>\n",
       "      <th>Titulos</th>\n",
       "      <th>contenidos</th>\n",
       "      <th>Palabras claves</th>\n",
       "      <th>LemmatizerTitulos</th>\n",
       "    </tr>\n",
       "  </thead>\n",
       "  <tbody>\n",
       "    <tr>\n",
       "      <th>0</th>\n",
       "      <td>Analista de planeación de producción - sec...</td>\n",
       "      <td>Reconocido laboratorio ubicado al Norte de la ...</td>\n",
       "      <td>planeación    ...</td>\n",
       "      <td>Analista    planeación    producción    -    ...</td>\n",
       "    </tr>\n",
       "    <tr>\n",
       "      <th>1</th>\n",
       "      <td>Auxiliar mecánico</td>\n",
       "      <td>Importante multinacional del sector eléctrico,...</td>\n",
       "      <td>mecanico      ...</td>\n",
       "      <td>Auxiliar    mecánico</td>\n",
       "    </tr>\n",
       "    <tr>\n",
       "      <th>2</th>\n",
       "      <td>Enfermero jefe -</td>\n",
       "      <td>Para los diferentes servivios de Institución d...</td>\n",
       "      <td>Enfermero Jefe...</td>\n",
       "      <td>Enfermero    jefe    -</td>\n",
       "    </tr>\n",
       "    <tr>\n",
       "      <th>3</th>\n",
       "      <td>Auxiliar administrativo contable</td>\n",
       "      <td>Nos encontramos de manera urgente Analista de ...</td>\n",
       "      <td>auxiliar conta...</td>\n",
       "      <td>Auxiliar    administrativo    contable</td>\n",
       "    </tr>\n",
       "    <tr>\n",
       "      <th>4</th>\n",
       "      <td>Analista de datos</td>\n",
       "      <td>Importante empresa de Infraestructura vial, re...</td>\n",
       "      <td>analista      ...</td>\n",
       "      <td>Analista    datos</td>\n",
       "    </tr>\n",
       "  </tbody>\n",
       "</table>\n",
       "</div>"
      ],
      "text/plain": [
       "                                             Titulos  \\\n",
       "0      Analista de planeación de producción - sec...   \n",
       "1                                Auxiliar mecánico     \n",
       "2                                 Enfermero jefe -     \n",
       "3                 Auxiliar administrativo contable     \n",
       "4                                Analista de datos     \n",
       "\n",
       "                                          contenidos  \\\n",
       "0  Reconocido laboratorio ubicado al Norte de la ...   \n",
       "1  Importante multinacional del sector eléctrico,...   \n",
       "2  Para los diferentes servivios de Institución d...   \n",
       "3  Nos encontramos de manera urgente Analista de ...   \n",
       "4  Importante empresa de Infraestructura vial, re...   \n",
       "\n",
       "                                     Palabras claves  \\\n",
       "0                                  planeación    ...   \n",
       "1                                  mecanico      ...   \n",
       "2                                  Enfermero Jefe...   \n",
       "3                                  auxiliar conta...   \n",
       "4                                  analista      ...   \n",
       "\n",
       "                                   LemmatizerTitulos  \n",
       "0   Analista    planeación    producción    -    ...  \n",
       "1                              Auxiliar    mecánico   \n",
       "2                            Enfermero    jefe    -   \n",
       "3            Auxiliar    administrativo    contable   \n",
       "4                                 Analista    datos   "
      ]
     },
     "execution_count": 8,
     "metadata": {},
     "output_type": "execute_result"
    }
   ],
   "source": [
    "df.head()"
   ]
  },
  {
   "cell_type": "code",
   "execution_count": 9,
   "metadata": {},
   "outputs": [],
   "source": [
    "\n",
    "# Instanciamos un vectorizador\n",
    "vectorizer = TfidfVectorizer()\n",
    "DescripcionCargo=df['LemmatizerTitulos'].values.astype(\"U\")\n",
    "\n",
    "# vectorizamos el texto de forma que podamos medir la diferencia que existe entre texto\n",
    "X = vectorizer.fit_transform(DescripcionCargo)\n",
    "\n",
    "# Intanciamos la agrupacion y el numero de clusters, podemos cambiar parametros inicales del clustering \n",
    "# como por ejemplo cambiado el tipo de distancia, sin normalizar los vectores o cambiar el numero de clusters\n",
    "num_clusters = 20\n",
    "clusterer = KMeansClusterer(num_clusters, distance=nltk.cluster.util.cosine_distance, repeats=30, normalise=True,avoid_empty_clusters=True)\n",
    "\n",
    "# Creamos los agrupacion para cada una de las filas\n",
    "clusters = clusterer.cluster(X.toarray(), assign_clusters=True)\n",
    "\n",
    "\n"
   ]
  },
  {
   "cell_type": "code",
   "execution_count": 10,
   "metadata": {},
   "outputs": [
    {
     "name": "stderr",
     "output_type": "stream",
     "text": [
      "C:\\Users\\analistaBi\\AppData\\Roaming\\Python\\Python38\\site-packages\\sklearn\\utils\\deprecation.py:87: FutureWarning: Function get_feature_names is deprecated; get_feature_names is deprecated in 1.0 and will be removed in 1.2. Please use get_feature_names_out instead.\n",
      "  warnings.warn(msg, category=FutureWarning)\n"
     ]
    }
   ],
   "source": [
    "feature_names = vectorizer.get_feature_names()\n",
    "\n",
    "# Creamos un diccionario para insertar las características de cada cluster\n",
    "cluster_features = {i:[] for i in range(num_clusters)}\n",
    "\n",
    "# Iterar sobre los vectores y agregar los nombres de características al cluster apropiado\n",
    "for i, vector in enumerate(X):\n",
    "    cluster = clusters[i]\n",
    "    for j, value in enumerate(vector.toarray()[0]):\n",
    "        if value != 0:\n",
    "            feature = feature_names[j]\n",
    "            cluster_features[cluster].append(feature)"
   ]
  },
  {
   "attachments": {},
   "cell_type": "markdown",
   "metadata": {},
   "source": [
    "#### Ver las 30 primeras palabras con mayor coincidencia por cluster"
   ]
  },
  {
   "cell_type": "code",
   "execution_count": 81,
   "metadata": {},
   "outputs": [
    {
     "name": "stdout",
     "output_type": "stream",
     "text": [
      "['docente', 'física', 'science', 'acompañamiento', 'apoyo', 'docente', 'prácticas', 'campus', 'completo', 'derecho', 'maestria', 'popayan', 'profesor', 'publico', 'tiempo', 'bilingüe', 'docente', 'ict', 'docente', 'ingles', 'centro', 'docente', 'emprendimiento', 'medio', 'pensamiento', 'tiempo', 'docente', 'física', 'science', 'docente']\n"
     ]
    }
   ],
   "source": [
    "print(cluster_features[18][0:30])"
   ]
  },
  {
   "attachments": {},
   "cell_type": "markdown",
   "metadata": {},
   "source": [
    "### Insertamos la columna de Cluster en el dataset"
   ]
  },
  {
   "cell_type": "code",
   "execution_count": 14,
   "metadata": {},
   "outputs": [],
   "source": [
    "df.insert(loc=4,column = 'Cluster', value = clusters)"
   ]
  },
  {
   "attachments": {},
   "cell_type": "markdown",
   "metadata": {},
   "source": [
    "### Como ejemplo de como el algoritmo categoriza el lenguaje natural, escogemos las primeras 20 lineas del cluster 18 que relaciona los cargos docente\n"
   ]
  },
  {
   "cell_type": "code",
   "execution_count": 80,
   "metadata": {},
   "outputs": [
    {
     "data": {
      "text/html": [
       "<div>\n",
       "<style scoped>\n",
       "    .dataframe tbody tr th:only-of-type {\n",
       "        vertical-align: middle;\n",
       "    }\n",
       "\n",
       "    .dataframe tbody tr th {\n",
       "        vertical-align: top;\n",
       "    }\n",
       "\n",
       "    .dataframe thead th {\n",
       "        text-align: right;\n",
       "    }\n",
       "</style>\n",
       "<table border=\"1\" class=\"dataframe\">\n",
       "  <thead>\n",
       "    <tr style=\"text-align: right;\">\n",
       "      <th></th>\n",
       "      <th>Titulos</th>\n",
       "      <th>contenidos</th>\n",
       "      <th>Palabras claves</th>\n",
       "      <th>LemmatizerTitulos</th>\n",
       "      <th>Cluster</th>\n",
       "    </tr>\n",
       "  </thead>\n",
       "  <tbody>\n",
       "    <tr>\n",
       "      <th>119</th>\n",
       "      <td>Docente física/science</td>\n",
       "      <td>Los colegios de la red Cognita siempre se comp...</td>\n",
       "      <td>enseñanza     ...</td>\n",
       "      <td>Docente    física/science</td>\n",
       "      <td>18</td>\n",
       "    </tr>\n",
       "    <tr>\n",
       "      <th>204</th>\n",
       "      <td>Docente de apoyo y acompañamiento a prácti...</td>\n",
       "      <td>La Fundación Universitaria Agraria de Colombia...</td>\n",
       "      <td>Profesional en...</td>\n",
       "      <td>Docente    apoyo    acompañamiento    prácticas</td>\n",
       "      <td>18</td>\n",
       "    </tr>\n",
       "    <tr>\n",
       "      <th>236</th>\n",
       "      <td>Profesor (a) tiempo completo derecho maest...</td>\n",
       "      <td>En la Universidad Cooperativa de Colombia esta...</td>\n",
       "      <td>docente       ...</td>\n",
       "      <td>Profesor    (    )    tiempo    completo    d...</td>\n",
       "      <td>18</td>\n",
       "    </tr>\n",
       "    <tr>\n",
       "      <th>284</th>\n",
       "      <td>Docente de ict bilingüe</td>\n",
       "      <td>Los colegios de la red Cognita siempre se comp...</td>\n",
       "      <td>colegio       ...</td>\n",
       "      <td>Docente    ict    bilingüe</td>\n",
       "      <td>18</td>\n",
       "    </tr>\n",
       "    <tr>\n",
       "      <th>288</th>\n",
       "      <td>Docente de ingles</td>\n",
       "      <td>Docentes ingles primaria Colegio Fontibón</td>\n",
       "      <td>docente       ...</td>\n",
       "      <td>Docente    ingles</td>\n",
       "      <td>18</td>\n",
       "    </tr>\n",
       "    <tr>\n",
       "      <th>316</th>\n",
       "      <td>Docente medio tiempo-centro  de pensamient...</td>\n",
       "      <td>La Fundación Universitaria Agraria de Colombia...</td>\n",
       "      <td>docente       ...</td>\n",
       "      <td>Docente    medio    tiempo-centro    pensamie...</td>\n",
       "      <td>18</td>\n",
       "    </tr>\n",
       "    <tr>\n",
       "      <th>413</th>\n",
       "      <td>Docente física/science</td>\n",
       "      <td>Los colegios de la red Cognita siempre se comp...</td>\n",
       "      <td>enseñanza     ...</td>\n",
       "      <td>Docente    física/science</td>\n",
       "      <td>18</td>\n",
       "    </tr>\n",
       "    <tr>\n",
       "      <th>519</th>\n",
       "      <td>Docente física/science</td>\n",
       "      <td>Los colegios de la red Cognita siempre se comp...</td>\n",
       "      <td>enseñanza     ...</td>\n",
       "      <td>Docente    física/science</td>\n",
       "      <td>18</td>\n",
       "    </tr>\n",
       "    <tr>\n",
       "      <th>533</th>\n",
       "      <td>Docente de ict bilingüe</td>\n",
       "      <td>Los colegios de la red Cognita siempre se comp...</td>\n",
       "      <td>colegio       ...</td>\n",
       "      <td>Docente    ict    bilingüe</td>\n",
       "      <td>18</td>\n",
       "    </tr>\n",
       "    <tr>\n",
       "      <th>538</th>\n",
       "      <td>Docente de ingles</td>\n",
       "      <td>Docentes ingles primaria Colegio Fontibón</td>\n",
       "      <td>docente       ...</td>\n",
       "      <td>Docente    ingles</td>\n",
       "      <td>18</td>\n",
       "    </tr>\n",
       "    <tr>\n",
       "      <th>581</th>\n",
       "      <td>Docente de ingles</td>\n",
       "      <td>Docentes ingles primaria Colegio Fontibón</td>\n",
       "      <td>docente       ...</td>\n",
       "      <td>Docente    ingles</td>\n",
       "      <td>18</td>\n",
       "    </tr>\n",
       "    <tr>\n",
       "      <th>590</th>\n",
       "      <td>Docente de ict bilingüe</td>\n",
       "      <td>Los colegios de la red Cognita siempre se comp...</td>\n",
       "      <td>colegio       ...</td>\n",
       "      <td>Docente    ict    bilingüe</td>\n",
       "      <td>18</td>\n",
       "    </tr>\n",
       "    <tr>\n",
       "      <th>602</th>\n",
       "      <td>Profesor(a) hora catedra para el programa ...</td>\n",
       "      <td>En la Universidad Cooperativa de Colombia esta...</td>\n",
       "      <td>docente       ...</td>\n",
       "      <td>Profesor    (    )    hora    catedra    prog...</td>\n",
       "      <td>18</td>\n",
       "    </tr>\n",
       "    <tr>\n",
       "      <th>645</th>\n",
       "      <td>Profesor tiempo completo presencial desarr...</td>\n",
       "      <td>Importante institución de educación superior c...</td>\n",
       "      <td>Arquitectura d...</td>\n",
       "      <td>Profesor    tiempo    completo    presencial ...</td>\n",
       "      <td>18</td>\n",
       "    </tr>\n",
       "    <tr>\n",
       "      <th>661</th>\n",
       "      <td>Profesor(a) hora catedra para el programa ...</td>\n",
       "      <td>En la Universidad Cooperativa de Colombia esta...</td>\n",
       "      <td>docente       ...</td>\n",
       "      <td>Profesor    (    )    hora    catedra    prog...</td>\n",
       "      <td>18</td>\n",
       "    </tr>\n",
       "    <tr>\n",
       "      <th>697</th>\n",
       "      <td>Profesor tiempo completo presencial desarr...</td>\n",
       "      <td>Importante institución de educación superior c...</td>\n",
       "      <td>Arquitectura d...</td>\n",
       "      <td>Profesor    tiempo    completo    presencial ...</td>\n",
       "      <td>18</td>\n",
       "    </tr>\n",
       "    <tr>\n",
       "      <th>707</th>\n",
       "      <td>Formador de semilleros en automatización</td>\n",
       "      <td>¡No te pierdas esta gran oportunidad! ??</td>\n",
       "      <td>Automatizador ...</td>\n",
       "      <td>Formador    semilleros    automatización</td>\n",
       "      <td>18</td>\n",
       "    </tr>\n",
       "    <tr>\n",
       "      <th>708</th>\n",
       "      <td>Automatizador de pruebas de software</td>\n",
       "      <td>¡Únete a nuestro equipo! Buscamos el mejor tal...</td>\n",
       "      <td>Pruebas API   ...</td>\n",
       "      <td>Automatizador    pruebas    software</td>\n",
       "      <td>18</td>\n",
       "    </tr>\n",
       "    <tr>\n",
       "      <th>742</th>\n",
       "      <td>Docente de cátedra - estadística</td>\n",
       "      <td>Educación</td>\n",
       "      <td>Estadística   ...</td>\n",
       "      <td>Docente    cátedra    -    estadística</td>\n",
       "      <td>18</td>\n",
       "    </tr>\n",
       "    <tr>\n",
       "      <th>786</th>\n",
       "      <td>Docente de tiempo completo maestría en amb...</td>\n",
       "      <td>Reconocida institución de educación superior r...</td>\n",
       "      <td>DOCENTE       ...</td>\n",
       "      <td>Docente    tiempo    completo    maestría    ...</td>\n",
       "      <td>18</td>\n",
       "    </tr>\n",
       "  </tbody>\n",
       "</table>\n",
       "</div>"
      ],
      "text/plain": [
       "                                               Titulos  \\\n",
       "119                           Docente física/science     \n",
       "204      Docente de apoyo y acompañamiento a prácti...   \n",
       "236      Profesor (a) tiempo completo derecho maest...   \n",
       "284                          Docente de ict bilingüe     \n",
       "288                                Docente de ingles     \n",
       "316      Docente medio tiempo-centro  de pensamient...   \n",
       "413                           Docente física/science     \n",
       "519                           Docente física/science     \n",
       "533                          Docente de ict bilingüe     \n",
       "538                                Docente de ingles     \n",
       "581                                Docente de ingles     \n",
       "590                          Docente de ict bilingüe     \n",
       "602      Profesor(a) hora catedra para el programa ...   \n",
       "645      Profesor tiempo completo presencial desarr...   \n",
       "661      Profesor(a) hora catedra para el programa ...   \n",
       "697      Profesor tiempo completo presencial desarr...   \n",
       "707         Formador de semilleros en automatización     \n",
       "708             Automatizador de pruebas de software     \n",
       "742                 Docente de cátedra - estadística     \n",
       "786      Docente de tiempo completo maestría en amb...   \n",
       "\n",
       "                                            contenidos  \\\n",
       "119  Los colegios de la red Cognita siempre se comp...   \n",
       "204  La Fundación Universitaria Agraria de Colombia...   \n",
       "236  En la Universidad Cooperativa de Colombia esta...   \n",
       "284  Los colegios de la red Cognita siempre se comp...   \n",
       "288  Docentes ingles primaria Colegio Fontibón           \n",
       "316  La Fundación Universitaria Agraria de Colombia...   \n",
       "413  Los colegios de la red Cognita siempre se comp...   \n",
       "519  Los colegios de la red Cognita siempre se comp...   \n",
       "533  Los colegios de la red Cognita siempre se comp...   \n",
       "538  Docentes ingles primaria Colegio Fontibón           \n",
       "581  Docentes ingles primaria Colegio Fontibón           \n",
       "590  Los colegios de la red Cognita siempre se comp...   \n",
       "602  En la Universidad Cooperativa de Colombia esta...   \n",
       "645  Importante institución de educación superior c...   \n",
       "661  En la Universidad Cooperativa de Colombia esta...   \n",
       "697  Importante institución de educación superior c...   \n",
       "707           ¡No te pierdas esta gran oportunidad! ??   \n",
       "708  ¡Únete a nuestro equipo! Buscamos el mejor tal...   \n",
       "742                                          Educación   \n",
       "786  Reconocida institución de educación superior r...   \n",
       "\n",
       "                                       Palabras claves  \\\n",
       "119                                  enseñanza     ...   \n",
       "204                                  Profesional en...   \n",
       "236                                  docente       ...   \n",
       "284                                  colegio       ...   \n",
       "288                                  docente       ...   \n",
       "316                                  docente       ...   \n",
       "413                                  enseñanza     ...   \n",
       "519                                  enseñanza     ...   \n",
       "533                                  colegio       ...   \n",
       "538                                  docente       ...   \n",
       "581                                  docente       ...   \n",
       "590                                  colegio       ...   \n",
       "602                                  docente       ...   \n",
       "645                                  Arquitectura d...   \n",
       "661                                  docente       ...   \n",
       "697                                  Arquitectura d...   \n",
       "707                                  Automatizador ...   \n",
       "708                                  Pruebas API   ...   \n",
       "742                                  Estadística   ...   \n",
       "786                                  DOCENTE       ...   \n",
       "\n",
       "                                     LemmatizerTitulos  Cluster  \n",
       "119                         Docente    física/science        18  \n",
       "204   Docente    apoyo    acompañamiento    prácticas        18  \n",
       "236   Profesor    (    )    tiempo    completo    d...       18  \n",
       "284                        Docente    ict    bilingüe        18  \n",
       "288                                 Docente    ingles        18  \n",
       "316   Docente    medio    tiempo-centro    pensamie...       18  \n",
       "413                         Docente    física/science        18  \n",
       "519                         Docente    física/science        18  \n",
       "533                        Docente    ict    bilingüe        18  \n",
       "538                                 Docente    ingles        18  \n",
       "581                                 Docente    ingles        18  \n",
       "590                        Docente    ict    bilingüe        18  \n",
       "602   Profesor    (    )    hora    catedra    prog...       18  \n",
       "645   Profesor    tiempo    completo    presencial ...       18  \n",
       "661   Profesor    (    )    hora    catedra    prog...       18  \n",
       "697   Profesor    tiempo    completo    presencial ...       18  \n",
       "707          Formador    semilleros    automatización        18  \n",
       "708              Automatizador    pruebas    software        18  \n",
       "742            Docente    cátedra    -    estadística        18  \n",
       "786   Docente    tiempo    completo    maestría    ...       18  "
      ]
     },
     "execution_count": 80,
     "metadata": {},
     "output_type": "execute_result"
    }
   ],
   "source": [
    "df[df['Cluster'] == 18].head(20)"
   ]
  },
  {
   "attachments": {},
   "cell_type": "markdown",
   "metadata": {},
   "source": [
    "## Insertar la Columna de descripción de Cluster"
   ]
  },
  {
   "cell_type": "code",
   "execution_count": 82,
   "metadata": {},
   "outputs": [],
   "source": [
    "import numpy as np\n",
    "df['Definicion Cluster']= np.where(df['Cluster'] == 0, 'Auxiliares y Aprendices', \n",
    "                          np.where(df['Cluster'] == 1, 'Operadores, planeadores, lideres de Mantenimiento',\n",
    "                          np.where(df['Cluster'] == 2, 'Otros',\n",
    "                          np.where(df['Cluster'] == 3, 'Administradores y Asesores',\n",
    "                          np.where(df['Cluster'] == 4, 'Analistas de diferentes areas',\n",
    "                          np.where(df['Cluster'] == 5, 'Cargos comerciales, mercadeo',\n",
    "                          np.where(df['Cluster'] == 6, 'Supervisores, Encargados, Coordinadores',\n",
    "                          np.where(df['Cluster'] == 7, 'Directores',\n",
    "                          np.where(df['Cluster'] == 8, 'Auditores, Desarrolladores y Consultores',\n",
    "                          np.where(df['Cluster'] == 9, 'Sector de compras',\n",
    "                          np.where(df['Cluster'] == 10, 'Servicios',\n",
    "                          np.where(df['Cluster'] == 11, 'Tecnicos',\n",
    "                          np.where(df['Cluster'] == 12, 'Cargos de Soporte',\n",
    "                          np.where(df['Cluster'] == 13, 'Asesores en diferentes areas',\n",
    "                          np.where(df['Cluster'] == 14, 'Cargos de Project manager, manager, comunicaciones y Digital trafficker',\n",
    "                          np.where(df['Cluster'] == 15, 'Areas de datos, base de datos y especialistas en diferentes areas',\n",
    "                          np.where(df['Cluster'] == 16, 'Cargos Administrativos',\n",
    "                          np.where(df['Cluster'] == 17, 'Puntos de ventas, recaudos o cargos menores',\n",
    "                          np.where(df['Cluster'] == 18, 'Docentes, profesores y formadores',\n",
    "                          np.where(df['Cluster'] == 19, 'Ejecutivos, Gerentes y cargos bilingues b2/c1', 'Otros'))))))))))))))))))))"
   ]
  },
  {
   "cell_type": "code",
   "execution_count": 83,
   "metadata": {},
   "outputs": [
    {
     "data": {
      "text/html": [
       "<div>\n",
       "<style scoped>\n",
       "    .dataframe tbody tr th:only-of-type {\n",
       "        vertical-align: middle;\n",
       "    }\n",
       "\n",
       "    .dataframe tbody tr th {\n",
       "        vertical-align: top;\n",
       "    }\n",
       "\n",
       "    .dataframe thead th {\n",
       "        text-align: right;\n",
       "    }\n",
       "</style>\n",
       "<table border=\"1\" class=\"dataframe\">\n",
       "  <thead>\n",
       "    <tr style=\"text-align: right;\">\n",
       "      <th></th>\n",
       "      <th>Titulos</th>\n",
       "      <th>contenidos</th>\n",
       "      <th>Palabras claves</th>\n",
       "      <th>LemmatizerTitulos</th>\n",
       "      <th>Cluster</th>\n",
       "      <th>Definicion Cluster</th>\n",
       "    </tr>\n",
       "  </thead>\n",
       "  <tbody>\n",
       "    <tr>\n",
       "      <th>0</th>\n",
       "      <td>Analista de planeación de producción - sec...</td>\n",
       "      <td>Reconocido laboratorio ubicado al Norte de la ...</td>\n",
       "      <td>planeación    ...</td>\n",
       "      <td>Analista    planeación    producción    -    ...</td>\n",
       "      <td>4</td>\n",
       "      <td>Analistas de diferentes areas</td>\n",
       "    </tr>\n",
       "    <tr>\n",
       "      <th>1</th>\n",
       "      <td>Auxiliar mecánico</td>\n",
       "      <td>Importante multinacional del sector eléctrico,...</td>\n",
       "      <td>mecanico      ...</td>\n",
       "      <td>Auxiliar    mecánico</td>\n",
       "      <td>0</td>\n",
       "      <td>Auxiliares y Aprendices</td>\n",
       "    </tr>\n",
       "    <tr>\n",
       "      <th>2</th>\n",
       "      <td>Enfermero jefe -</td>\n",
       "      <td>Para los diferentes servivios de Institución d...</td>\n",
       "      <td>Enfermero Jefe...</td>\n",
       "      <td>Enfermero    jefe    -</td>\n",
       "      <td>2</td>\n",
       "      <td>Otros</td>\n",
       "    </tr>\n",
       "    <tr>\n",
       "      <th>3</th>\n",
       "      <td>Auxiliar administrativo contable</td>\n",
       "      <td>Nos encontramos de manera urgente Analista de ...</td>\n",
       "      <td>auxiliar conta...</td>\n",
       "      <td>Auxiliar    administrativo    contable</td>\n",
       "      <td>0</td>\n",
       "      <td>Auxiliares y Aprendices</td>\n",
       "    </tr>\n",
       "    <tr>\n",
       "      <th>4</th>\n",
       "      <td>Analista de datos</td>\n",
       "      <td>Importante empresa de Infraestructura vial, re...</td>\n",
       "      <td>analista      ...</td>\n",
       "      <td>Analista    datos</td>\n",
       "      <td>4</td>\n",
       "      <td>Analistas de diferentes areas</td>\n",
       "    </tr>\n",
       "  </tbody>\n",
       "</table>\n",
       "</div>"
      ],
      "text/plain": [
       "                                             Titulos  \\\n",
       "0      Analista de planeación de producción - sec...   \n",
       "1                                Auxiliar mecánico     \n",
       "2                                 Enfermero jefe -     \n",
       "3                 Auxiliar administrativo contable     \n",
       "4                                Analista de datos     \n",
       "\n",
       "                                          contenidos  \\\n",
       "0  Reconocido laboratorio ubicado al Norte de la ...   \n",
       "1  Importante multinacional del sector eléctrico,...   \n",
       "2  Para los diferentes servivios de Institución d...   \n",
       "3  Nos encontramos de manera urgente Analista de ...   \n",
       "4  Importante empresa de Infraestructura vial, re...   \n",
       "\n",
       "                                     Palabras claves  \\\n",
       "0                                  planeación    ...   \n",
       "1                                  mecanico      ...   \n",
       "2                                  Enfermero Jefe...   \n",
       "3                                  auxiliar conta...   \n",
       "4                                  analista      ...   \n",
       "\n",
       "                                   LemmatizerTitulos  Cluster  \\\n",
       "0   Analista    planeación    producción    -    ...        4   \n",
       "1                              Auxiliar    mecánico         0   \n",
       "2                            Enfermero    jefe    -         2   \n",
       "3            Auxiliar    administrativo    contable         0   \n",
       "4                                 Analista    datos         4   \n",
       "\n",
       "              Definicion Cluster  \n",
       "0  Analistas de diferentes areas  \n",
       "1        Auxiliares y Aprendices  \n",
       "2                          Otros  \n",
       "3        Auxiliares y Aprendices  \n",
       "4  Analistas de diferentes areas  "
      ]
     },
     "execution_count": 83,
     "metadata": {},
     "output_type": "execute_result"
    }
   ],
   "source": [
    "df.head()"
   ]
  },
  {
   "cell_type": "code",
   "execution_count": 85,
   "metadata": {},
   "outputs": [],
   "source": [
    "df.to_csv('Clustering.csv')"
   ]
  },
  {
   "cell_type": "code",
   "execution_count": 86,
   "metadata": {},
   "outputs": [
    {
     "data": {
      "text/plain": [
       "Text(-2.575000000000003, 0.5, 'Total')"
      ]
     },
     "execution_count": 86,
     "metadata": {},
     "output_type": "execute_result"
    },
    {
     "data": {
      "image/png": "[encoded data removed]",
      "text/plain": [
       "<Figure size 720x360 with 1 Axes>"
      ]
     },
     "metadata": {
      "needs_background": "light"
     },
     "output_type": "display_data"
    }
   ],
   "source": [
    "import matplotlib.pyplot as plt\n",
    "import seaborn as sns\n",
    "\n",
    "sns.displot(df['Definicion Cluster'],discrete=True,aspect=2,height=5,kind=\"hist\").set(title='Cantidad de cargos por Categoria')\n",
    "plt.xticks(rotation=90)\n",
    "plt.ylabel('Total')"
   ]
  },
  {
   "attachments": {},
   "cell_type": "markdown",
   "metadata": {},
   "source": [
    "#### Se podría mejorar la distribución de los cargos aumentando el número de clusters, el tipo de distancia utilizada, la semilla o las iteraciones. También se podría intentar hacer un reducción mayor de los terminos para una mejor limpieza de los datos"
   ]
  },
  {
   "attachments": {},
   "cell_type": "markdown",
   "metadata": {},
   "source": [
    "#### Con esto se finaliza el análisis de este ejercicio"
   ]
  }
 ],
 "metadata": {
  "kernelspec": {
   "display_name": "Python 3",
   "language": "python",
   "name": "python3"
  },
  "language_info": {
   "codemirror_mode": {
    "name": "ipython",
    "version": 3
   },
   "file_extension": ".py",
   "mimetype": "text/x-python",
   "name": "python",
   "nbconvert_exporter": "python",
   "pygments_lexer": "ipython3",
   "version": "3.8.10 (tags/v3.8.10:3d8993a, May  3 2021, 11:48:03) [MSC v.1928 64 bit (AMD64)]"
  },
  "orig_nbformat": 4,
  "vscode": {
   "interpreter": {
    "hash": "570feb405e2e27c949193ac68f46852414290d515b0ba6e5d90d076ed2284471"
   }
  }
 },
 "nbformat": 4,
 "nbformat_minor": 2
}
